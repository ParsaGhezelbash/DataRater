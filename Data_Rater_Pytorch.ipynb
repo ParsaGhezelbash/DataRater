{
  "nbformat": 4,
  "nbformat_minor": 0,
  "metadata": {
    "colab": {
      "provenance": [],
      "gpuType": "T4"
    },
    "kernelspec": {
      "name": "python3",
      "display_name": "Python 3"
    },
    "language_info": {
      "name": "python"
    }
  },
  "cells": [
    {
      "cell_type": "code",
      "source": [
        "import torch\n",
        "import torch.nn as nn\n",
        "import torch.optim as optim\n",
        "import torchvision\n",
        "import torchvision.transforms as transforms\n",
        "from tqdm import tqdm\n",
        "import matplotlib.pyplot as plt\n",
        "import matplotlib.patheffects as PathEffects\n",
        "import numpy as np\n",
        "from scipy import stats # Import the stats module from SciPy"
      ],
      "metadata": {
        "id": "uCwxn3WlwYxR"
      },
      "execution_count": 1,
      "outputs": []
    },
    {
      "cell_type": "code",
      "source": [
        "# --- 1. Configuration ---\n",
        "TRAIN_SPLIT_RATIO = 0.9\n",
        "BATCH_SIZE = 128\n",
        "INNER_LR = 1e-3\n",
        "OUTER_LR = 1e-3\n",
        "META_STEPS = 1000\n",
        "INNER_STEPS = 2  # T: Number of steps for the inner loop\n",
        "META_REFRESH_STEPS = 10  # N: Number of steps to refresh the inner model\n",
        "GRAD_CLIP_NORM = 1.0\n",
        "NUM_INNER_MODELS = 4\n",
        "DEVICE = torch.device(\"cuda\" if torch.cuda.is_available() else \"cpu\")"
      ],
      "metadata": {
        "id": "cVhlH45mwcv7"
      },
      "execution_count": 2,
      "outputs": []
    },
    {
      "cell_type": "code",
      "source": [
        "\n",
        "# --- 3. Model Definitions ---\n",
        "class ToyCNN(nn.Module):\n",
        "    \"\"\"The inner model that gets trained on re-weighted data.\"\"\"\n",
        "    def __init__(self):\n",
        "        super(ToyCNN, self).__init__()\n",
        "        self.layers = nn.Sequential(\n",
        "            nn.Conv2d(in_channels=1, out_channels=16, kernel_size=3),\n",
        "            nn.ReLU(),\n",
        "            nn.MaxPool2d(kernel_size=2, stride=2),\n",
        "            nn.Conv2d(in_channels=16, out_channels=32, kernel_size=3),\n",
        "            nn.ReLU(),\n",
        "            nn.MaxPool2d(kernel_size=2, stride=2),\n",
        "            nn.Flatten(),\n",
        "            nn.Linear(in_features=32*5*5, out_features=128),\n",
        "            nn.ReLU(),\n",
        "            nn.Linear(in_features=128, out_features=10)\n",
        "        )\n",
        "\n",
        "    def forward(self, x):\n",
        "        return self.layers(x)\n",
        "\n",
        "class DataRater(nn.Module):\n",
        "    \"\"\"The outer model (meta-learner) that learns to rate data.\"\"\"\n",
        "    def __init__(self, temperature=1.0):\n",
        "        super(DataRater, self).__init__()\n",
        "        self.layers = nn.Sequential(\n",
        "            nn.Conv2d(in_channels=1, out_channels=8, kernel_size=3),\n",
        "            nn.ReLU(),\n",
        "            nn.MaxPool2d(kernel_size=2, stride=2),\n",
        "            nn.Conv2d(in_channels=8, out_channels=16, kernel_size=3),\n",
        "            nn.Tanh(),\n",
        "            nn.MaxPool2d(kernel_size=2, stride=2),\n",
        "            nn.Flatten()\n",
        "        )\n",
        "        self.head = nn.Linear(400, 1)\n",
        "        self.temperature = temperature\n",
        "\n",
        "    def forward(self, x):\n",
        "        features = self.layers(x)\n",
        "        return self.head(features).squeeze(-1)"
      ],
      "metadata": {
        "id": "yFLgNwaJxk46"
      },
      "execution_count": 3,
      "outputs": []
    },
    {
      "cell_type": "code",
      "execution_count": 4,
      "metadata": {
        "id": "3x0oaNxn7jhX"
      },
      "outputs": [],
      "source": [
        "# --- 2. Data Pipeline ---\n",
        "def get_mnist_loaders(batch_size, train_split_ratio):\n",
        "    \"\"\"Prepares the MNIST train, validation, and test data loaders.\"\"\"\n",
        "    transform = transforms.Compose([\n",
        "        transforms.ToTensor(),\n",
        "        transforms.Normalize((0.5,), (0.5,))\n",
        "    ])\n",
        "\n",
        "    train_dataset = torchvision.datasets.MNIST(root='./data', train=True, download=True, transform=transform)\n",
        "    test_dataset = torchvision.datasets.MNIST(root='./data', train=False, download=True, transform=transform)\n",
        "\n",
        "    # Create a train/validation split\n",
        "    num_train = int(len(train_dataset) * train_split_ratio)\n",
        "    num_val = len(train_dataset) - num_train\n",
        "    train_subset, val_subset = torch.utils.data.random_split(train_dataset, [num_train, num_val])\n",
        "\n",
        "    train_loader = torch.utils.data.DataLoader(train_subset, batch_size=batch_size, shuffle=True)\n",
        "    val_loader = torch.utils.data.DataLoader(val_subset, batch_size=batch_size, shuffle=False)\n",
        "    test_loader = torch.utils.data.DataLoader(test_dataset, batch_size=batch_size, shuffle=False)\n",
        "\n",
        "    return train_loader, val_loader, test_loader"
      ]
    },
    {
      "cell_type": "code",
      "source": [
        "def inner_loop_step(inner_model, inner_optimizer, data_rater, inner_batch):\n",
        "    \"\"\"\n",
        "    Performs a single training step for the inner model.\n",
        "    \"\"\"\n",
        "    inner_model.train()\n",
        "    data_rater.train()\n",
        "\n",
        "    inner_images, inner_labels = inner_batch\n",
        "    inner_images, inner_labels = inner_images.to(DEVICE), inner_labels.to(DEVICE)\n",
        "\n",
        "    # Zero gradients for the inner optimizer\n",
        "    inner_optimizer.zero_grad()\n",
        "\n",
        "    # Get ratings and compute weights for the current batch\n",
        "    with torch.no_grad(): # Don't track gradients for data rater here\n",
        "        ratings = data_rater(inner_images)\n",
        "        weights = torch.softmax(ratings, dim=0)\n",
        "\n",
        "    # Get predictions from the inner model\n",
        "    logits = inner_model(inner_images)\n",
        "\n",
        "    # Calculate per-sample cross-entropy loss and apply weights\n",
        "    per_sample_losses = nn.functional.cross_entropy(logits, inner_labels, reduction='none')\n",
        "    weighted_loss = (per_sample_losses * weights).mean()\n",
        "\n",
        "    # Update the inner model\n",
        "    weighted_loss.backward()\n",
        "    torch.nn.utils.clip_grad_norm_(inner_model.parameters(), GRAD_CLIP_NORM)\n",
        "    inner_optimizer.step()"
      ],
      "metadata": {
        "id": "rQlFkYYYv7eM"
      },
      "execution_count": 5,
      "outputs": []
    },
    {
      "cell_type": "code",
      "source": [
        "def outer_loop_step(data_rater, outer_optimizer, inner_models, inner_optimizers, train_iterator, val_iterator, train_loader, val_loader):\n",
        "    \"\"\"\n",
        "    Performs one full meta-update step using a provided POPULATION of inner models.\n",
        "    \"\"\"\n",
        "    # --- 1. Run the inner loop for each model in the provided population ---\n",
        "    for model, optimizer in zip(inner_models, inner_optimizers):\n",
        "        for _ in range(INNER_STEPS):\n",
        "            try:\n",
        "                inner_batch = next(train_iterator)\n",
        "            except StopIteration:\n",
        "                train_iterator = iter(train_loader)\n",
        "                inner_batch = next(train_iterator)\n",
        "\n",
        "            inner_loop_step(model, optimizer, data_rater, inner_batch)\n",
        "\n",
        "    # --- 2. Perform the outer update on the DataRater ---\n",
        "    data_rater.train()\n",
        "    for model in inner_models:\n",
        "        model.eval()\n",
        "\n",
        "    # Get a single outer batch to evaluate all models\n",
        "    try:\n",
        "        outer_images, outer_labels = next(val_iterator)\n",
        "    except StopIteration:\n",
        "        val_iterator = iter(val_loader)\n",
        "        outer_images, outer_labels = next(val_iterator)\n",
        "    outer_images, outer_labels = outer_images.to(DEVICE), outer_labels.to(DEVICE)\n",
        "\n",
        "    # --- 3. Calculate and average the outer loss across the population ---\n",
        "    outer_losses = []\n",
        "    for model in inner_models:\n",
        "        outer_logits = model(outer_images)\n",
        "        outer_loss = nn.functional.cross_entropy(outer_logits, outer_labels)\n",
        "        outer_losses.append(outer_loss)\n",
        "\n",
        "    average_outer_loss = torch.mean(torch.stack(outer_losses))\n",
        "\n",
        "    # --- 4. Update the DataRater using the averaged loss ---\n",
        "    outer_optimizer.zero_grad()\n",
        "    average_outer_loss.backward()\n",
        "    torch.nn.utils.clip_grad_norm_(data_rater.parameters(), GRAD_CLIP_NORM)\n",
        "    outer_optimizer.step()\n",
        "\n",
        "    return average_outer_loss.item()"
      ],
      "metadata": {
        "id": "Aon4T27iv2cc"
      },
      "execution_count": 6,
      "outputs": []
    },
    {
      "cell_type": "code",
      "source": [
        "def run_meta_training(visualize_progress=False):\n",
        "    \"\"\"\n",
        "    Initializes models and orchestrates the main meta-training loop.\n",
        "    Manages a population of inner models and refreshes them periodically.\n",
        "    \"\"\"\n",
        "    # --- Initial Setup ---\n",
        "    data_rater = DataRater().to(DEVICE)\n",
        "    outer_optimizer = optim.Adam(data_rater.parameters(), lr=OUTER_LR)\n",
        "\n",
        "    train_loader, val_loader, test_loader = get_mnist_loaders(BATCH_SIZE, TRAIN_SPLIT_RATIO)\n",
        "    train_iterator = iter(train_loader)\n",
        "    val_iterator = iter(val_loader)\n",
        "\n",
        "    # Declare lists for the population of inner models and optimizers\n",
        "    inner_models, inner_optimizers = None, None\n",
        "\n",
        "    print(f\"Starting meta-training with a population of {NUM_INNER_MODELS} models, refreshing every {META_REFRESH_STEPS} steps.\")\n",
        "\n",
        "    # --- The Main Training Loop ---\n",
        "    for meta_step in tqdm(range(META_STEPS), desc=\"Meta-Training\"):\n",
        "        # Periodically refresh the entire population of inner models\n",
        "        if meta_step % META_REFRESH_STEPS == 0:\n",
        "            tqdm.write(f\"\\n[Meta-Step {meta_step}] Refreshing inner model population...\")\n",
        "            inner_models = [ToyCNN().to(DEVICE) for _ in range(NUM_INNER_MODELS)]\n",
        "            inner_optimizers = [optim.Adam(model.parameters(), lr=INNER_LR) for model in inner_models]\n",
        "\n",
        "        # Pass the current population of models and optimizers to the step function\n",
        "        outer_loss = outer_loop_step(\n",
        "            data_rater, outer_optimizer,\n",
        "            inner_models, inner_optimizers,  # Pass the lists\n",
        "            train_iterator, val_iterator,\n",
        "            train_loader, val_loader\n",
        "        )\n",
        "\n",
        "        if (meta_step + 1) % 10 == 0:\n",
        "            tqdm.write(f\"  [Meta-Step {meta_step + 1}/{META_STEPS}] Outer Loss: {outer_loss:.4f}\")\n",
        "\n",
        "        # Periodic visualization logic remains the same\n",
        "        if visualize_progress and (meta_step + 1) % 100 == 0:\n",
        "            analyze_with_individual_corruption(\n",
        "                data_rater,\n",
        "                test_loader,\n",
        "                num_batches=5,\n",
        "                current_step=meta_step + 1\n",
        "            )\n",
        "\n",
        "    print(\"\\n✅ Training complete!\")\n",
        "    return data_rater"
      ],
      "metadata": {
        "id": "ebkerAZrvzvB"
      },
      "execution_count": 14,
      "outputs": []
    },
    {
      "cell_type": "code",
      "source": [
        "def corrupt_images(images, corruption_fraction):\n",
        "    \"\"\"\n",
        "    Corrupts a batch of images by REPLACING a fraction of pixels with random noise.\n",
        "    Args:\n",
        "        images (torch.Tensor): A batch of images (B, C, H, W).\n",
        "        corruption_fraction (float): The fraction of pixels to corrupt (0.0 to 1.0).\n",
        "    Returns:\n",
        "        torch.Tensor: The batch of corrupted images.\n",
        "    \"\"\"\n",
        "    if corruption_fraction == 0.0:\n",
        "        return images\n",
        "\n",
        "    corrupted_images = images.clone()\n",
        "    batch_size, _, height, width = images.shape\n",
        "    num_pixels_total = height * width\n",
        "    num_pixels_to_corrupt = int(corruption_fraction * num_pixels_total)\n",
        "\n",
        "    for i in range(batch_size):\n",
        "        # Generate a random permutation of pixel indices to corrupt\n",
        "        indices = torch.randperm(num_pixels_total, device=images.device)[:num_pixels_to_corrupt]\n",
        "\n",
        "        # Convert flat indices to 2D indices\n",
        "        row_indices = indices // width\n",
        "        col_indices = indices % width\n",
        "\n",
        "        # --- Generate random pixel values to replace the existing ones ---\n",
        "        # Values are from a uniform distribution across the full [-1, 1] range.\n",
        "        random_pixels = torch.rand(num_pixels_to_corrupt, device=images.device) * 2 - 1\n",
        "\n",
        "        # --- Place the new random pixels into the image ---\n",
        "        corrupted_images[i, 0, row_indices, col_indices] = random_pixels\n",
        "\n",
        "    return corrupted_images"
      ],
      "metadata": {
        "id": "_TACET4i2A8z"
      },
      "execution_count": 15,
      "outputs": []
    },
    {
      "cell_type": "code",
      "source": [
        "def analyze_with_individual_corruption(data_rater, data_loader, num_batches=5, current_step=None):\n",
        "    \"\"\"\n",
        "    Analyzes the DataRater by corrupting each image with a continuous random\n",
        "    fraction and creating a scatter plot of scores vs. corruption.\n",
        "    \"\"\"\n",
        "    print(f\"\\n--- Analyzing with Continuous Individual Corruption over {num_batches} batches --- MetaStep: {current_step}\")\n",
        "    data_rater.eval()  # Set the model to evaluation mode\n",
        "\n",
        "    # These master lists will store the results from all batches\n",
        "    all_scores = []\n",
        "    all_fractions = []\n",
        "\n",
        "    # Loop over the specified number of batches\n",
        "    for i, (batch_images, _) in enumerate(data_loader):\n",
        "        if i >= num_batches:\n",
        "            break\n",
        "\n",
        "        batch_images = batch_images.to(DEVICE)\n",
        "        batch_size = batch_images.size(0)\n",
        "\n",
        "        individually_corrupted_batch = torch.zeros_like(batch_images)\n",
        "        fractions_for_this_batch = []\n",
        "\n",
        "        # Corrupt each image in the batch one by one\n",
        "        for j in range(batch_size):\n",
        "            # --- NEW: Generate a continuous random fraction between 0.0 and 1.0 ---\n",
        "            frac = np.random.uniform(0.0, 1.0)\n",
        "            fractions_for_this_batch.append(frac)\n",
        "\n",
        "            # Corrupt the single image (note: we keep the batch dimension)\n",
        "            original_image = batch_images[j:j+1]\n",
        "            corrupted_image = corrupt_images(original_image, frac)\n",
        "            individually_corrupted_batch[j] = corrupted_image\n",
        "\n",
        "        # Get the model's scores for the entire batch of individually corrupted images\n",
        "        with torch.no_grad():\n",
        "            scores = data_rater(individually_corrupted_batch)\n",
        "            weights = torch.softmax(scores, dim=0)\n",
        "\n",
        "        # Append the results to our master lists\n",
        "        all_scores.extend(weights.cpu().numpy())\n",
        "        all_fractions.extend(fractions_for_this_batch)\n",
        "\n",
        "    # --- Plotting and Regression Analysis ---\n",
        "\n",
        "    plt.figure(figsize=(12, 8))\n",
        "\n",
        "    # Scatter plot with continuous x-axis values (jitter is no longer needed)\n",
        "    plt.scatter(all_fractions, all_scores, alpha=0.3, label='Individual Image Score')\n",
        "\n",
        "    # Perform and plot the linear regression\n",
        "    slope, intercept, r_value, p_value, std_err = stats.linregress(all_fractions, all_scores)\n",
        "    r_squared = r_value**2\n",
        "\n",
        "    x_line = np.array([min(all_fractions), max(all_fractions)])\n",
        "    y_line = slope * x_line + intercept\n",
        "\n",
        "    plt.plot(x_line, y_line,\n",
        "             color='red', linewidth=2,\n",
        "             label=f'Linear Regression (R² = {r_squared:.3f})')\n",
        "\n",
        "    plt.title('DataRater Score vs. Individual Image Corruption', fontsize=16)\n",
        "    plt.xlabel('Fraction of Corrupted Pixels')\n",
        "    plt.ylabel('Raw Score (Rating)')\n",
        "    plt.grid(True, linestyle=':')\n",
        "    plt.legend()\n",
        "    plt.show()"
      ],
      "metadata": {
        "id": "0gGZkJ1P5LvQ"
      },
      "execution_count": 16,
      "outputs": []
    },
    {
      "cell_type": "code",
      "source": [
        "def visualize_corruption(data_rater, data_loader, num_images=5):\n",
        "    \"\"\"\n",
        "    Selects images, displays them with varying corruption, and overlays the\n",
        "    DataRater's score on each image.\n",
        "    \"\"\"\n",
        "    print(\"\\n--- Visualizing Image Corruption with DataRater Scores ---\")\n",
        "\n",
        "    # Ensure the model is on the correct device and in evaluation mode\n",
        "    data_rater.to(DEVICE).eval()\n",
        "\n",
        "    # Get a single batch of images\n",
        "    sample_images, _ = next(iter(data_loader))\n",
        "\n",
        "    corruption_fractions = [0.0, 0.25, 0.5, 0.75, 1.0]\n",
        "\n",
        "    fig, axes = plt.subplots(num_images, len(corruption_fractions), figsize=(12, num_images * 2.2))\n",
        "\n",
        "    for i in range(num_images):\n",
        "        original_image = sample_images[i:i+1]  # Keep batch dim\n",
        "\n",
        "        for j, frac in enumerate(corruption_fractions):\n",
        "            ax = axes[i, j]\n",
        "\n",
        "            # Create the corrupted version\n",
        "            corrupted_image_tensor = corrupt_images(original_image, frac)\n",
        "\n",
        "            # --- Get the DataRater's score for this specific image ---\n",
        "            with torch.no_grad():\n",
        "                score = data_rater(corrupted_image_tensor.to(DEVICE)).item()\n",
        "\n",
        "            # Prepare image for plotting (denormalize, etc.)\n",
        "            img_to_plot = corrupted_image_tensor.squeeze().cpu().numpy()\n",
        "            img_to_plot = img_to_plot * 0.5 + 0.5\n",
        "\n",
        "            ax.imshow(img_to_plot, cmap='gray')\n",
        "            ax.axis('off')\n",
        "\n",
        "            # --- Add the score as text onto the image ---\n",
        "            # The text is placed at coordinates (x=2, y=26) on the image\n",
        "            txt = ax.text(2, 26, f\"{score:.3f}\",\n",
        "                          color='white', fontsize=11, fontweight='bold')\n",
        "            # Add a black outline to the text for high visibility\n",
        "            txt.set_path_effects([PathEffects.withStroke(linewidth=3, foreground='black')])\n",
        "\n",
        "            if i == 0:\n",
        "                ax.set_title(f\"{frac*100:.0f}% Noise\")\n",
        "\n",
        "    fig.suptitle('Sample Images with DataRater Scores', fontsize=16)\n",
        "    plt.tight_layout(rect=[0, 0, 1, 0.95])\n",
        "    plt.show()"
      ],
      "metadata": {
        "id": "hIDXZaid9p_P"
      },
      "execution_count": 17,
      "outputs": []
    },
    {
      "cell_type": "markdown",
      "source": [],
      "metadata": {
        "id": "Q3HMv_br2CQI"
      }
    },
    {
      "cell_type": "code",
      "source": [
        "# --- 6. Main Execution ---\n",
        "if __name__ == \"__main__\":\n",
        "    trained_data_rater = run_meta_training(visualize_progress=False)\n",
        "\n",
        "    # Get a test loader for the analysis phase\n",
        "    _, _, test_loader = get_mnist_loaders(BATCH_SIZE, TRAIN_SPLIT_RATIO)"
      ],
      "metadata": {
        "colab": {
          "base_uri": "https://localhost:8080/"
        },
        "id": "-SC3hwQ02QPw",
        "outputId": "cbdb0a24-3c9f-469f-cfed-c11042cd24f0"
      },
      "execution_count": 22,
      "outputs": [
        {
          "output_type": "stream",
          "name": "stdout",
          "text": [
            "Starting meta-training with a population of 4 models, refreshing every 10 steps.\n"
          ]
        },
        {
          "output_type": "stream",
          "name": "stderr",
          "text": [
            "Meta-Training:   0%|          | 0/1000 [00:00<?, ?it/s]"
          ]
        },
        {
          "output_type": "stream",
          "name": "stdout",
          "text": [
            "\n",
            "[Meta-Step 0] Refreshing inner model population...\n"
          ]
        },
        {
          "output_type": "stream",
          "name": "stderr",
          "text": [
            "Meta-Training:   1%|          | 10/1000 [00:04<05:18,  3.10it/s]"
          ]
        },
        {
          "output_type": "stream",
          "name": "stdout",
          "text": [
            "  [Meta-Step 10/1000] Outer Loss: 1.2252\n",
            "\n",
            "[Meta-Step 10] Refreshing inner model population...\n"
          ]
        },
        {
          "output_type": "stream",
          "name": "stderr",
          "text": [
            "Meta-Training:   2%|▏         | 20/1000 [00:06<04:13,  3.87it/s]"
          ]
        },
        {
          "output_type": "stream",
          "name": "stdout",
          "text": [
            "  [Meta-Step 20/1000] Outer Loss: 1.2765\n",
            "\n",
            "[Meta-Step 20] Refreshing inner model population...\n"
          ]
        },
        {
          "output_type": "stream",
          "name": "stderr",
          "text": [
            "Meta-Training:   3%|▎         | 30/1000 [00:09<04:01,  4.01it/s]"
          ]
        },
        {
          "output_type": "stream",
          "name": "stdout",
          "text": [
            "  [Meta-Step 30/1000] Outer Loss: 1.2475\n",
            "\n",
            "[Meta-Step 30] Refreshing inner model population...\n"
          ]
        },
        {
          "output_type": "stream",
          "name": "stderr",
          "text": [
            "Meta-Training:   4%|▍         | 40/1000 [00:11<04:01,  3.97it/s]"
          ]
        },
        {
          "output_type": "stream",
          "name": "stdout",
          "text": [
            "  [Meta-Step 40/1000] Outer Loss: 1.3102\n",
            "\n",
            "[Meta-Step 40] Refreshing inner model population...\n"
          ]
        },
        {
          "output_type": "stream",
          "name": "stderr",
          "text": [
            "Meta-Training:   5%|▌         | 50/1000 [00:14<05:01,  3.15it/s]"
          ]
        },
        {
          "output_type": "stream",
          "name": "stdout",
          "text": [
            "  [Meta-Step 50/1000] Outer Loss: 1.2160\n",
            "\n",
            "[Meta-Step 50] Refreshing inner model population...\n"
          ]
        },
        {
          "output_type": "stream",
          "name": "stderr",
          "text": [
            "Meta-Training:   6%|▌         | 60/1000 [00:17<04:05,  3.82it/s]"
          ]
        },
        {
          "output_type": "stream",
          "name": "stdout",
          "text": [
            "  [Meta-Step 60/1000] Outer Loss: 1.3799\n",
            "\n",
            "[Meta-Step 60] Refreshing inner model population...\n"
          ]
        },
        {
          "output_type": "stream",
          "name": "stderr",
          "text": [
            "Meta-Training:   7%|▋         | 70/1000 [00:19<03:56,  3.93it/s]"
          ]
        },
        {
          "output_type": "stream",
          "name": "stdout",
          "text": [
            "  [Meta-Step 70/1000] Outer Loss: 1.3407\n",
            "\n",
            "[Meta-Step 70] Refreshing inner model population...\n"
          ]
        },
        {
          "output_type": "stream",
          "name": "stderr",
          "text": [
            "Meta-Training:   8%|▊         | 80/1000 [00:22<03:48,  4.03it/s]"
          ]
        },
        {
          "output_type": "stream",
          "name": "stdout",
          "text": [
            "  [Meta-Step 80/1000] Outer Loss: 1.2514\n",
            "\n",
            "[Meta-Step 80] Refreshing inner model population...\n"
          ]
        },
        {
          "output_type": "stream",
          "name": "stderr",
          "text": [
            "Meta-Training:   9%|▉         | 90/1000 [00:24<03:49,  3.97it/s]"
          ]
        },
        {
          "output_type": "stream",
          "name": "stdout",
          "text": [
            "  [Meta-Step 90/1000] Outer Loss: 1.1847\n",
            "\n",
            "[Meta-Step 90] Refreshing inner model population...\n"
          ]
        },
        {
          "output_type": "stream",
          "name": "stderr",
          "text": [
            "Meta-Training:  10%|█         | 100/1000 [00:28<04:52,  3.07it/s]"
          ]
        },
        {
          "output_type": "stream",
          "name": "stdout",
          "text": [
            "  [Meta-Step 100/1000] Outer Loss: 1.2698\n",
            "\n",
            "[Meta-Step 100] Refreshing inner model population...\n"
          ]
        },
        {
          "output_type": "stream",
          "name": "stderr",
          "text": [
            "Meta-Training:  11%|█         | 110/1000 [00:30<03:49,  3.87it/s]"
          ]
        },
        {
          "output_type": "stream",
          "name": "stdout",
          "text": [
            "  [Meta-Step 110/1000] Outer Loss: 1.3049\n",
            "\n",
            "[Meta-Step 110] Refreshing inner model population...\n"
          ]
        },
        {
          "output_type": "stream",
          "name": "stderr",
          "text": [
            "Meta-Training:  12%|█▏        | 120/1000 [00:33<03:42,  3.95it/s]"
          ]
        },
        {
          "output_type": "stream",
          "name": "stdout",
          "text": [
            "  [Meta-Step 120/1000] Outer Loss: 1.2598\n",
            "\n",
            "[Meta-Step 120] Refreshing inner model population...\n"
          ]
        },
        {
          "output_type": "stream",
          "name": "stderr",
          "text": [
            "Meta-Training:  13%|█▎        | 130/1000 [00:35<03:36,  4.01it/s]"
          ]
        },
        {
          "output_type": "stream",
          "name": "stdout",
          "text": [
            "  [Meta-Step 130/1000] Outer Loss: 1.1874\n",
            "\n",
            "[Meta-Step 130] Refreshing inner model population...\n"
          ]
        },
        {
          "output_type": "stream",
          "name": "stderr",
          "text": [
            "Meta-Training:  14%|█▍        | 140/1000 [00:38<04:14,  3.38it/s]"
          ]
        },
        {
          "output_type": "stream",
          "name": "stdout",
          "text": [
            "  [Meta-Step 140/1000] Outer Loss: 1.3439\n",
            "\n",
            "[Meta-Step 140] Refreshing inner model population...\n"
          ]
        },
        {
          "output_type": "stream",
          "name": "stderr",
          "text": [
            "Meta-Training:  15%|█▌        | 150/1000 [00:41<03:45,  3.77it/s]"
          ]
        },
        {
          "output_type": "stream",
          "name": "stdout",
          "text": [
            "  [Meta-Step 150/1000] Outer Loss: 1.3176\n",
            "\n",
            "[Meta-Step 150] Refreshing inner model population...\n"
          ]
        },
        {
          "output_type": "stream",
          "name": "stderr",
          "text": [
            "Meta-Training:  16%|█▌        | 160/1000 [00:43<03:31,  3.97it/s]"
          ]
        },
        {
          "output_type": "stream",
          "name": "stdout",
          "text": [
            "  [Meta-Step 160/1000] Outer Loss: 1.3310\n",
            "\n",
            "[Meta-Step 160] Refreshing inner model population...\n"
          ]
        },
        {
          "output_type": "stream",
          "name": "stderr",
          "text": [
            "Meta-Training:  17%|█▋        | 170/1000 [00:46<03:34,  3.87it/s]"
          ]
        },
        {
          "output_type": "stream",
          "name": "stdout",
          "text": [
            "  [Meta-Step 170/1000] Outer Loss: 1.3237\n",
            "\n",
            "[Meta-Step 170] Refreshing inner model population...\n"
          ]
        },
        {
          "output_type": "stream",
          "name": "stderr",
          "text": [
            "Meta-Training:  18%|█▊        | 180/1000 [00:49<03:31,  3.87it/s]"
          ]
        },
        {
          "output_type": "stream",
          "name": "stdout",
          "text": [
            "  [Meta-Step 180/1000] Outer Loss: 1.2518\n",
            "\n",
            "[Meta-Step 180] Refreshing inner model population...\n"
          ]
        },
        {
          "output_type": "stream",
          "name": "stderr",
          "text": [
            "Meta-Training:  19%|█▉        | 190/1000 [00:52<04:27,  3.03it/s]"
          ]
        },
        {
          "output_type": "stream",
          "name": "stdout",
          "text": [
            "  [Meta-Step 190/1000] Outer Loss: 1.4722\n",
            "\n",
            "[Meta-Step 190] Refreshing inner model population...\n"
          ]
        },
        {
          "output_type": "stream",
          "name": "stderr",
          "text": [
            "Meta-Training:  20%|██        | 200/1000 [00:54<03:23,  3.92it/s]"
          ]
        },
        {
          "output_type": "stream",
          "name": "stdout",
          "text": [
            "  [Meta-Step 200/1000] Outer Loss: 1.2756\n",
            "\n",
            "[Meta-Step 200] Refreshing inner model population...\n"
          ]
        },
        {
          "output_type": "stream",
          "name": "stderr",
          "text": [
            "Meta-Training:  21%|██        | 210/1000 [00:57<03:19,  3.95it/s]"
          ]
        },
        {
          "output_type": "stream",
          "name": "stdout",
          "text": [
            "  [Meta-Step 210/1000] Outer Loss: 1.3582\n",
            "\n",
            "[Meta-Step 210] Refreshing inner model population...\n"
          ]
        },
        {
          "output_type": "stream",
          "name": "stderr",
          "text": [
            "Meta-Training:  22%|██▏       | 220/1000 [01:00<03:22,  3.84it/s]"
          ]
        },
        {
          "output_type": "stream",
          "name": "stdout",
          "text": [
            "  [Meta-Step 220/1000] Outer Loss: 1.2087\n",
            "\n",
            "[Meta-Step 220] Refreshing inner model population...\n"
          ]
        },
        {
          "output_type": "stream",
          "name": "stderr",
          "text": [
            "Meta-Training:  23%|██▎       | 230/1000 [01:02<04:00,  3.20it/s]"
          ]
        },
        {
          "output_type": "stream",
          "name": "stdout",
          "text": [
            "  [Meta-Step 230/1000] Outer Loss: 1.3358\n",
            "\n",
            "[Meta-Step 230] Refreshing inner model population...\n"
          ]
        },
        {
          "output_type": "stream",
          "name": "stderr",
          "text": [
            "Meta-Training:  24%|██▍       | 240/1000 [01:05<03:21,  3.78it/s]"
          ]
        },
        {
          "output_type": "stream",
          "name": "stdout",
          "text": [
            "  [Meta-Step 240/1000] Outer Loss: 1.3353\n",
            "\n",
            "[Meta-Step 240] Refreshing inner model population...\n"
          ]
        },
        {
          "output_type": "stream",
          "name": "stderr",
          "text": [
            "Meta-Training:  25%|██▌       | 250/1000 [01:08<03:07,  4.00it/s]"
          ]
        },
        {
          "output_type": "stream",
          "name": "stdout",
          "text": [
            "  [Meta-Step 250/1000] Outer Loss: 1.3633\n",
            "\n",
            "[Meta-Step 250] Refreshing inner model population...\n"
          ]
        },
        {
          "output_type": "stream",
          "name": "stderr",
          "text": [
            "Meta-Training:  26%|██▌       | 260/1000 [01:10<03:10,  3.89it/s]"
          ]
        },
        {
          "output_type": "stream",
          "name": "stdout",
          "text": [
            "  [Meta-Step 260/1000] Outer Loss: 1.2757\n",
            "\n",
            "[Meta-Step 260] Refreshing inner model population...\n"
          ]
        },
        {
          "output_type": "stream",
          "name": "stderr",
          "text": [
            "Meta-Training:  27%|██▋       | 270/1000 [01:13<03:16,  3.71it/s]"
          ]
        },
        {
          "output_type": "stream",
          "name": "stdout",
          "text": [
            "  [Meta-Step 270/1000] Outer Loss: 1.3047\n",
            "\n",
            "[Meta-Step 270] Refreshing inner model population...\n"
          ]
        },
        {
          "output_type": "stream",
          "name": "stderr",
          "text": [
            "Meta-Training:  28%|██▊       | 280/1000 [01:16<03:45,  3.20it/s]"
          ]
        },
        {
          "output_type": "stream",
          "name": "stdout",
          "text": [
            "  [Meta-Step 280/1000] Outer Loss: 1.3986\n",
            "\n",
            "[Meta-Step 280] Refreshing inner model population...\n"
          ]
        },
        {
          "output_type": "stream",
          "name": "stderr",
          "text": [
            "Meta-Training:  29%|██▉       | 290/1000 [01:19<03:04,  3.84it/s]"
          ]
        },
        {
          "output_type": "stream",
          "name": "stdout",
          "text": [
            "  [Meta-Step 290/1000] Outer Loss: 1.2792\n",
            "\n",
            "[Meta-Step 290] Refreshing inner model population...\n"
          ]
        },
        {
          "output_type": "stream",
          "name": "stderr",
          "text": [
            "Meta-Training:  30%|███       | 300/1000 [01:21<02:57,  3.94it/s]"
          ]
        },
        {
          "output_type": "stream",
          "name": "stdout",
          "text": [
            "  [Meta-Step 300/1000] Outer Loss: 1.2638\n",
            "\n",
            "[Meta-Step 300] Refreshing inner model population...\n"
          ]
        },
        {
          "output_type": "stream",
          "name": "stderr",
          "text": [
            "Meta-Training:  31%|███       | 310/1000 [01:24<02:55,  3.93it/s]"
          ]
        },
        {
          "output_type": "stream",
          "name": "stdout",
          "text": [
            "  [Meta-Step 310/1000] Outer Loss: 1.4161\n",
            "\n",
            "[Meta-Step 310] Refreshing inner model population...\n"
          ]
        },
        {
          "output_type": "stream",
          "name": "stderr",
          "text": [
            "Meta-Training:  32%|███▏      | 320/1000 [01:27<03:37,  3.12it/s]"
          ]
        },
        {
          "output_type": "stream",
          "name": "stdout",
          "text": [
            "  [Meta-Step 320/1000] Outer Loss: 1.2583\n",
            "\n",
            "[Meta-Step 320] Refreshing inner model population...\n"
          ]
        },
        {
          "output_type": "stream",
          "name": "stderr",
          "text": [
            "Meta-Training:  33%|███▎      | 330/1000 [01:30<03:02,  3.66it/s]"
          ]
        },
        {
          "output_type": "stream",
          "name": "stdout",
          "text": [
            "  [Meta-Step 330/1000] Outer Loss: 1.2914\n",
            "\n",
            "[Meta-Step 330] Refreshing inner model population...\n"
          ]
        },
        {
          "output_type": "stream",
          "name": "stderr",
          "text": [
            "Meta-Training:  34%|███▍      | 340/1000 [01:33<02:53,  3.80it/s]"
          ]
        },
        {
          "output_type": "stream",
          "name": "stdout",
          "text": [
            "  [Meta-Step 340/1000] Outer Loss: 1.1704\n",
            "\n",
            "[Meta-Step 340] Refreshing inner model population...\n"
          ]
        },
        {
          "output_type": "stream",
          "name": "stderr",
          "text": [
            "Meta-Training:  35%|███▌      | 350/1000 [01:35<02:49,  3.83it/s]"
          ]
        },
        {
          "output_type": "stream",
          "name": "stdout",
          "text": [
            "  [Meta-Step 350/1000] Outer Loss: 1.2530\n",
            "\n",
            "[Meta-Step 350] Refreshing inner model population...\n"
          ]
        },
        {
          "output_type": "stream",
          "name": "stderr",
          "text": [
            "Meta-Training:  36%|███▌      | 360/1000 [01:38<02:39,  4.02it/s]"
          ]
        },
        {
          "output_type": "stream",
          "name": "stdout",
          "text": [
            "  [Meta-Step 360/1000] Outer Loss: 1.2110\n",
            "\n",
            "[Meta-Step 360] Refreshing inner model population...\n"
          ]
        },
        {
          "output_type": "stream",
          "name": "stderr",
          "text": [
            "Meta-Training:  37%|███▋      | 370/1000 [01:41<03:10,  3.31it/s]"
          ]
        },
        {
          "output_type": "stream",
          "name": "stdout",
          "text": [
            "  [Meta-Step 370/1000] Outer Loss: 1.3181\n",
            "\n",
            "[Meta-Step 370] Refreshing inner model population...\n"
          ]
        },
        {
          "output_type": "stream",
          "name": "stderr",
          "text": [
            "Meta-Training:  38%|███▊      | 380/1000 [01:43<02:38,  3.92it/s]"
          ]
        },
        {
          "output_type": "stream",
          "name": "stdout",
          "text": [
            "  [Meta-Step 380/1000] Outer Loss: 1.2886\n",
            "\n",
            "[Meta-Step 380] Refreshing inner model population...\n"
          ]
        },
        {
          "output_type": "stream",
          "name": "stderr",
          "text": [
            "Meta-Training:  39%|███▉      | 390/1000 [01:46<02:35,  3.93it/s]"
          ]
        },
        {
          "output_type": "stream",
          "name": "stdout",
          "text": [
            "  [Meta-Step 390/1000] Outer Loss: 1.1778\n",
            "\n",
            "[Meta-Step 390] Refreshing inner model population...\n"
          ]
        },
        {
          "output_type": "stream",
          "name": "stderr",
          "text": [
            "Meta-Training:  40%|████      | 400/1000 [01:49<02:29,  4.00it/s]"
          ]
        },
        {
          "output_type": "stream",
          "name": "stdout",
          "text": [
            "  [Meta-Step 400/1000] Outer Loss: 1.3297\n",
            "\n",
            "[Meta-Step 400] Refreshing inner model population...\n"
          ]
        },
        {
          "output_type": "stream",
          "name": "stderr",
          "text": [
            "Meta-Training:  41%|████      | 410/1000 [01:51<03:01,  3.25it/s]"
          ]
        },
        {
          "output_type": "stream",
          "name": "stdout",
          "text": [
            "  [Meta-Step 410/1000] Outer Loss: 1.3483\n",
            "\n",
            "[Meta-Step 410] Refreshing inner model population...\n"
          ]
        },
        {
          "output_type": "stream",
          "name": "stderr",
          "text": [
            "Meta-Training:  42%|████▏     | 420/1000 [01:54<02:28,  3.91it/s]"
          ]
        },
        {
          "output_type": "stream",
          "name": "stdout",
          "text": [
            "  [Meta-Step 420/1000] Outer Loss: 1.3063\n",
            "\n",
            "[Meta-Step 420] Refreshing inner model population...\n"
          ]
        },
        {
          "output_type": "stream",
          "name": "stderr",
          "text": [
            "Meta-Training:  43%|████▎     | 430/1000 [01:57<02:21,  4.01it/s]"
          ]
        },
        {
          "output_type": "stream",
          "name": "stdout",
          "text": [
            "  [Meta-Step 430/1000] Outer Loss: 1.2089\n",
            "\n",
            "[Meta-Step 430] Refreshing inner model population...\n"
          ]
        },
        {
          "output_type": "stream",
          "name": "stderr",
          "text": [
            "Meta-Training:  44%|████▍     | 440/1000 [01:59<02:24,  3.87it/s]"
          ]
        },
        {
          "output_type": "stream",
          "name": "stdout",
          "text": [
            "  [Meta-Step 440/1000] Outer Loss: 1.1783\n",
            "\n",
            "[Meta-Step 440] Refreshing inner model population...\n"
          ]
        },
        {
          "output_type": "stream",
          "name": "stderr",
          "text": [
            "Meta-Training:  45%|████▌     | 450/1000 [02:02<02:23,  3.84it/s]"
          ]
        },
        {
          "output_type": "stream",
          "name": "stdout",
          "text": [
            "  [Meta-Step 450/1000] Outer Loss: 1.3015\n",
            "\n",
            "[Meta-Step 450] Refreshing inner model population...\n"
          ]
        },
        {
          "output_type": "stream",
          "name": "stderr",
          "text": [
            "Meta-Training:  46%|████▌     | 460/1000 [02:05<02:41,  3.34it/s]"
          ]
        },
        {
          "output_type": "stream",
          "name": "stdout",
          "text": [
            "  [Meta-Step 460/1000] Outer Loss: 1.2200\n",
            "\n",
            "[Meta-Step 460] Refreshing inner model population...\n"
          ]
        },
        {
          "output_type": "stream",
          "name": "stderr",
          "text": [
            "Meta-Training:  47%|████▋     | 470/1000 [02:07<02:12,  3.99it/s]"
          ]
        },
        {
          "output_type": "stream",
          "name": "stdout",
          "text": [
            "  [Meta-Step 470/1000] Outer Loss: 1.3417\n",
            "\n",
            "[Meta-Step 470] Refreshing inner model population...\n"
          ]
        },
        {
          "output_type": "stream",
          "name": "stderr",
          "text": [
            "Meta-Training:  48%|████▊     | 480/1000 [02:10<02:10,  3.99it/s]"
          ]
        },
        {
          "output_type": "stream",
          "name": "stdout",
          "text": [
            "  [Meta-Step 480/1000] Outer Loss: 1.2576\n",
            "\n",
            "[Meta-Step 480] Refreshing inner model population...\n"
          ]
        },
        {
          "output_type": "stream",
          "name": "stderr",
          "text": [
            "Meta-Training:  49%|████▉     | 490/1000 [02:13<02:08,  3.98it/s]"
          ]
        },
        {
          "output_type": "stream",
          "name": "stdout",
          "text": [
            "  [Meta-Step 490/1000] Outer Loss: 1.3337\n",
            "\n",
            "[Meta-Step 490] Refreshing inner model population...\n"
          ]
        },
        {
          "output_type": "stream",
          "name": "stderr",
          "text": [
            "Meta-Training:  50%|█████     | 500/1000 [02:15<02:41,  3.10it/s]"
          ]
        },
        {
          "output_type": "stream",
          "name": "stdout",
          "text": [
            "  [Meta-Step 500/1000] Outer Loss: 1.2473\n",
            "\n",
            "[Meta-Step 500] Refreshing inner model population...\n"
          ]
        },
        {
          "output_type": "stream",
          "name": "stderr",
          "text": [
            "Meta-Training:  51%|█████     | 510/1000 [02:18<02:07,  3.84it/s]"
          ]
        },
        {
          "output_type": "stream",
          "name": "stdout",
          "text": [
            "  [Meta-Step 510/1000] Outer Loss: 1.2780\n",
            "\n",
            "[Meta-Step 510] Refreshing inner model population...\n"
          ]
        },
        {
          "output_type": "stream",
          "name": "stderr",
          "text": [
            "Meta-Training:  52%|█████▏    | 520/1000 [02:21<02:03,  3.90it/s]"
          ]
        },
        {
          "output_type": "stream",
          "name": "stdout",
          "text": [
            "  [Meta-Step 520/1000] Outer Loss: 1.3480\n",
            "\n",
            "[Meta-Step 520] Refreshing inner model population...\n"
          ]
        },
        {
          "output_type": "stream",
          "name": "stderr",
          "text": [
            "Meta-Training:  53%|█████▎    | 530/1000 [02:23<02:01,  3.86it/s]"
          ]
        },
        {
          "output_type": "stream",
          "name": "stdout",
          "text": [
            "  [Meta-Step 530/1000] Outer Loss: 1.2572\n",
            "\n",
            "[Meta-Step 530] Refreshing inner model population...\n"
          ]
        },
        {
          "output_type": "stream",
          "name": "stderr",
          "text": [
            "Meta-Training:  54%|█████▍    | 540/1000 [02:26<01:57,  3.92it/s]"
          ]
        },
        {
          "output_type": "stream",
          "name": "stdout",
          "text": [
            "  [Meta-Step 540/1000] Outer Loss: 1.2217\n",
            "\n",
            "[Meta-Step 540] Refreshing inner model population...\n"
          ]
        },
        {
          "output_type": "stream",
          "name": "stderr",
          "text": [
            "Meta-Training:  55%|█████▌    | 550/1000 [02:29<02:21,  3.17it/s]"
          ]
        },
        {
          "output_type": "stream",
          "name": "stdout",
          "text": [
            "  [Meta-Step 550/1000] Outer Loss: 1.2431\n",
            "\n",
            "[Meta-Step 550] Refreshing inner model population...\n"
          ]
        },
        {
          "output_type": "stream",
          "name": "stderr",
          "text": [
            "Meta-Training:  56%|█████▌    | 560/1000 [02:32<01:50,  3.97it/s]"
          ]
        },
        {
          "output_type": "stream",
          "name": "stdout",
          "text": [
            "  [Meta-Step 560/1000] Outer Loss: 1.2318\n",
            "\n",
            "[Meta-Step 560] Refreshing inner model population...\n"
          ]
        },
        {
          "output_type": "stream",
          "name": "stderr",
          "text": [
            "Meta-Training:  57%|█████▋    | 570/1000 [02:34<01:49,  3.92it/s]"
          ]
        },
        {
          "output_type": "stream",
          "name": "stdout",
          "text": [
            "  [Meta-Step 570/1000] Outer Loss: 1.4095\n",
            "\n",
            "[Meta-Step 570] Refreshing inner model population...\n"
          ]
        },
        {
          "output_type": "stream",
          "name": "stderr",
          "text": [
            "Meta-Training:  58%|█████▊    | 580/1000 [02:37<01:47,  3.92it/s]"
          ]
        },
        {
          "output_type": "stream",
          "name": "stdout",
          "text": [
            "  [Meta-Step 580/1000] Outer Loss: 1.3376\n",
            "\n",
            "[Meta-Step 580] Refreshing inner model population...\n"
          ]
        },
        {
          "output_type": "stream",
          "name": "stderr",
          "text": [
            "Meta-Training:  59%|█████▉    | 590/1000 [02:40<02:08,  3.18it/s]"
          ]
        },
        {
          "output_type": "stream",
          "name": "stdout",
          "text": [
            "  [Meta-Step 590/1000] Outer Loss: 1.3689\n",
            "\n",
            "[Meta-Step 590] Refreshing inner model population...\n"
          ]
        },
        {
          "output_type": "stream",
          "name": "stderr",
          "text": [
            "Meta-Training:  60%|██████    | 600/1000 [02:42<01:41,  3.94it/s]"
          ]
        },
        {
          "output_type": "stream",
          "name": "stdout",
          "text": [
            "  [Meta-Step 600/1000] Outer Loss: 1.3203\n",
            "\n",
            "[Meta-Step 600] Refreshing inner model population...\n"
          ]
        },
        {
          "output_type": "stream",
          "name": "stderr",
          "text": [
            "Meta-Training:  61%|██████    | 610/1000 [02:45<01:38,  3.96it/s]"
          ]
        },
        {
          "output_type": "stream",
          "name": "stdout",
          "text": [
            "  [Meta-Step 610/1000] Outer Loss: 1.2806\n",
            "\n",
            "[Meta-Step 610] Refreshing inner model population...\n"
          ]
        },
        {
          "output_type": "stream",
          "name": "stderr",
          "text": [
            "Meta-Training:  62%|██████▏   | 620/1000 [02:47<01:33,  4.05it/s]"
          ]
        },
        {
          "output_type": "stream",
          "name": "stdout",
          "text": [
            "  [Meta-Step 620/1000] Outer Loss: 1.2921\n",
            "\n",
            "[Meta-Step 620] Refreshing inner model population...\n"
          ]
        },
        {
          "output_type": "stream",
          "name": "stderr",
          "text": [
            "Meta-Training:  63%|██████▎   | 630/1000 [02:50<01:31,  4.02it/s]"
          ]
        },
        {
          "output_type": "stream",
          "name": "stdout",
          "text": [
            "  [Meta-Step 630/1000] Outer Loss: 1.3544\n",
            "\n",
            "[Meta-Step 630] Refreshing inner model population...\n"
          ]
        },
        {
          "output_type": "stream",
          "name": "stderr",
          "text": [
            "Meta-Training:  64%|██████▍   | 640/1000 [02:53<02:05,  2.88it/s]"
          ]
        },
        {
          "output_type": "stream",
          "name": "stdout",
          "text": [
            "  [Meta-Step 640/1000] Outer Loss: 1.2332\n",
            "\n",
            "[Meta-Step 640] Refreshing inner model population...\n"
          ]
        },
        {
          "output_type": "stream",
          "name": "stderr",
          "text": [
            "Meta-Training:  65%|██████▌   | 650/1000 [02:56<01:27,  3.98it/s]"
          ]
        },
        {
          "output_type": "stream",
          "name": "stdout",
          "text": [
            "  [Meta-Step 650/1000] Outer Loss: 1.1420\n",
            "\n",
            "[Meta-Step 650] Refreshing inner model population...\n"
          ]
        },
        {
          "output_type": "stream",
          "name": "stderr",
          "text": [
            "Meta-Training:  66%|██████▌   | 660/1000 [02:58<01:23,  4.06it/s]"
          ]
        },
        {
          "output_type": "stream",
          "name": "stdout",
          "text": [
            "  [Meta-Step 660/1000] Outer Loss: 1.3340\n",
            "\n",
            "[Meta-Step 660] Refreshing inner model population...\n"
          ]
        },
        {
          "output_type": "stream",
          "name": "stderr",
          "text": [
            "Meta-Training:  67%|██████▋   | 670/1000 [03:01<01:22,  3.99it/s]"
          ]
        },
        {
          "output_type": "stream",
          "name": "stdout",
          "text": [
            "  [Meta-Step 670/1000] Outer Loss: 1.2992\n",
            "\n",
            "[Meta-Step 670] Refreshing inner model population...\n"
          ]
        },
        {
          "output_type": "stream",
          "name": "stderr",
          "text": [
            "Meta-Training:  68%|██████▊   | 680/1000 [03:03<01:21,  3.95it/s]"
          ]
        },
        {
          "output_type": "stream",
          "name": "stdout",
          "text": [
            "  [Meta-Step 680/1000] Outer Loss: 1.2073\n",
            "\n",
            "[Meta-Step 680] Refreshing inner model population...\n"
          ]
        },
        {
          "output_type": "stream",
          "name": "stderr",
          "text": [
            "Meta-Training:  69%|██████▉   | 690/1000 [03:06<01:24,  3.66it/s]"
          ]
        },
        {
          "output_type": "stream",
          "name": "stdout",
          "text": [
            "  [Meta-Step 690/1000] Outer Loss: 1.3256\n",
            "\n",
            "[Meta-Step 690] Refreshing inner model population...\n"
          ]
        },
        {
          "output_type": "stream",
          "name": "stderr",
          "text": [
            "Meta-Training:  70%|███████   | 700/1000 [03:09<01:17,  3.88it/s]"
          ]
        },
        {
          "output_type": "stream",
          "name": "stdout",
          "text": [
            "  [Meta-Step 700/1000] Outer Loss: 1.1622\n",
            "\n",
            "[Meta-Step 700] Refreshing inner model population...\n"
          ]
        },
        {
          "output_type": "stream",
          "name": "stderr",
          "text": [
            "Meta-Training:  71%|███████   | 710/1000 [03:11<01:11,  4.04it/s]"
          ]
        },
        {
          "output_type": "stream",
          "name": "stdout",
          "text": [
            "  [Meta-Step 710/1000] Outer Loss: 1.2255\n",
            "\n",
            "[Meta-Step 710] Refreshing inner model population...\n"
          ]
        },
        {
          "output_type": "stream",
          "name": "stderr",
          "text": [
            "Meta-Training:  72%|███████▏  | 720/1000 [03:14<01:09,  4.05it/s]"
          ]
        },
        {
          "output_type": "stream",
          "name": "stdout",
          "text": [
            "  [Meta-Step 720/1000] Outer Loss: 1.2140\n",
            "\n",
            "[Meta-Step 720] Refreshing inner model population...\n"
          ]
        },
        {
          "output_type": "stream",
          "name": "stderr",
          "text": [
            "Meta-Training:  73%|███████▎  | 730/1000 [03:17<01:26,  3.11it/s]"
          ]
        },
        {
          "output_type": "stream",
          "name": "stdout",
          "text": [
            "  [Meta-Step 730/1000] Outer Loss: 1.2968\n",
            "\n",
            "[Meta-Step 730] Refreshing inner model population...\n"
          ]
        },
        {
          "output_type": "stream",
          "name": "stderr",
          "text": [
            "Meta-Training:  74%|███████▍  | 740/1000 [03:19<01:07,  3.86it/s]"
          ]
        },
        {
          "output_type": "stream",
          "name": "stdout",
          "text": [
            "  [Meta-Step 740/1000] Outer Loss: 1.1084\n",
            "\n",
            "[Meta-Step 740] Refreshing inner model population...\n"
          ]
        },
        {
          "output_type": "stream",
          "name": "stderr",
          "text": [
            "Meta-Training:  75%|███████▌  | 750/1000 [03:22<01:01,  4.06it/s]"
          ]
        },
        {
          "output_type": "stream",
          "name": "stdout",
          "text": [
            "  [Meta-Step 750/1000] Outer Loss: 1.2918\n",
            "\n",
            "[Meta-Step 750] Refreshing inner model population...\n"
          ]
        },
        {
          "output_type": "stream",
          "name": "stderr",
          "text": [
            "Meta-Training:  76%|███████▌  | 760/1000 [03:24<01:01,  3.93it/s]"
          ]
        },
        {
          "output_type": "stream",
          "name": "stdout",
          "text": [
            "  [Meta-Step 760/1000] Outer Loss: 1.4601\n",
            "\n",
            "[Meta-Step 760] Refreshing inner model population...\n"
          ]
        },
        {
          "output_type": "stream",
          "name": "stderr",
          "text": [
            "Meta-Training:  77%|███████▋  | 770/1000 [03:27<00:55,  4.11it/s]"
          ]
        },
        {
          "output_type": "stream",
          "name": "stdout",
          "text": [
            "  [Meta-Step 770/1000] Outer Loss: 1.3336\n",
            "\n",
            "[Meta-Step 770] Refreshing inner model population...\n"
          ]
        },
        {
          "output_type": "stream",
          "name": "stderr",
          "text": [
            "Meta-Training:  78%|███████▊  | 780/1000 [03:30<01:06,  3.33it/s]"
          ]
        },
        {
          "output_type": "stream",
          "name": "stdout",
          "text": [
            "  [Meta-Step 780/1000] Outer Loss: 1.2617\n",
            "\n",
            "[Meta-Step 780] Refreshing inner model population...\n"
          ]
        },
        {
          "output_type": "stream",
          "name": "stderr",
          "text": [
            "Meta-Training:  79%|███████▉  | 790/1000 [03:32<00:52,  4.01it/s]"
          ]
        },
        {
          "output_type": "stream",
          "name": "stdout",
          "text": [
            "  [Meta-Step 790/1000] Outer Loss: 1.2291\n",
            "\n",
            "[Meta-Step 790] Refreshing inner model population...\n"
          ]
        },
        {
          "output_type": "stream",
          "name": "stderr",
          "text": [
            "Meta-Training:  80%|████████  | 800/1000 [03:35<00:49,  4.02it/s]"
          ]
        },
        {
          "output_type": "stream",
          "name": "stdout",
          "text": [
            "  [Meta-Step 800/1000] Outer Loss: 1.2461\n",
            "\n",
            "[Meta-Step 800] Refreshing inner model population...\n"
          ]
        },
        {
          "output_type": "stream",
          "name": "stderr",
          "text": [
            "Meta-Training:  81%|████████  | 810/1000 [03:37<00:46,  4.10it/s]"
          ]
        },
        {
          "output_type": "stream",
          "name": "stdout",
          "text": [
            "  [Meta-Step 810/1000] Outer Loss: 1.2978\n",
            "\n",
            "[Meta-Step 810] Refreshing inner model population...\n"
          ]
        },
        {
          "output_type": "stream",
          "name": "stderr",
          "text": [
            "Meta-Training:  82%|████████▏ | 820/1000 [03:40<00:54,  3.29it/s]"
          ]
        },
        {
          "output_type": "stream",
          "name": "stdout",
          "text": [
            "  [Meta-Step 820/1000] Outer Loss: 1.3865\n",
            "\n",
            "[Meta-Step 820] Refreshing inner model population...\n"
          ]
        },
        {
          "output_type": "stream",
          "name": "stderr",
          "text": [
            "Meta-Training:  83%|████████▎ | 830/1000 [03:43<00:43,  3.91it/s]"
          ]
        },
        {
          "output_type": "stream",
          "name": "stdout",
          "text": [
            "  [Meta-Step 830/1000] Outer Loss: 1.3490\n",
            "\n",
            "[Meta-Step 830] Refreshing inner model population...\n"
          ]
        },
        {
          "output_type": "stream",
          "name": "stderr",
          "text": [
            "Meta-Training:  84%|████████▍ | 840/1000 [03:45<00:39,  4.01it/s]"
          ]
        },
        {
          "output_type": "stream",
          "name": "stdout",
          "text": [
            "  [Meta-Step 840/1000] Outer Loss: 1.2171\n",
            "\n",
            "[Meta-Step 840] Refreshing inner model population...\n"
          ]
        },
        {
          "output_type": "stream",
          "name": "stderr",
          "text": [
            "Meta-Training:  85%|████████▌ | 850/1000 [03:48<00:37,  3.97it/s]"
          ]
        },
        {
          "output_type": "stream",
          "name": "stdout",
          "text": [
            "  [Meta-Step 850/1000] Outer Loss: 1.2706\n",
            "\n",
            "[Meta-Step 850] Refreshing inner model population...\n"
          ]
        },
        {
          "output_type": "stream",
          "name": "stderr",
          "text": [
            "Meta-Training:  86%|████████▌ | 860/1000 [03:50<00:35,  4.00it/s]"
          ]
        },
        {
          "output_type": "stream",
          "name": "stdout",
          "text": [
            "  [Meta-Step 860/1000] Outer Loss: 1.1683\n",
            "\n",
            "[Meta-Step 860] Refreshing inner model population...\n"
          ]
        },
        {
          "output_type": "stream",
          "name": "stderr",
          "text": [
            "Meta-Training:  87%|████████▋ | 870/1000 [03:54<00:42,  3.09it/s]"
          ]
        },
        {
          "output_type": "stream",
          "name": "stdout",
          "text": [
            "  [Meta-Step 870/1000] Outer Loss: 1.2217\n",
            "\n",
            "[Meta-Step 870] Refreshing inner model population...\n"
          ]
        },
        {
          "output_type": "stream",
          "name": "stderr",
          "text": [
            "Meta-Training:  88%|████████▊ | 880/1000 [03:56<00:30,  3.95it/s]"
          ]
        },
        {
          "output_type": "stream",
          "name": "stdout",
          "text": [
            "  [Meta-Step 880/1000] Outer Loss: 1.3863\n",
            "\n",
            "[Meta-Step 880] Refreshing inner model population...\n"
          ]
        },
        {
          "output_type": "stream",
          "name": "stderr",
          "text": [
            "Meta-Training:  89%|████████▉ | 890/1000 [03:59<00:27,  4.00it/s]"
          ]
        },
        {
          "output_type": "stream",
          "name": "stdout",
          "text": [
            "  [Meta-Step 890/1000] Outer Loss: 1.3456\n",
            "\n",
            "[Meta-Step 890] Refreshing inner model population...\n"
          ]
        },
        {
          "output_type": "stream",
          "name": "stderr",
          "text": [
            "Meta-Training:  90%|█████████ | 900/1000 [04:01<00:25,  3.86it/s]"
          ]
        },
        {
          "output_type": "stream",
          "name": "stdout",
          "text": [
            "  [Meta-Step 900/1000] Outer Loss: 1.3098\n",
            "\n",
            "[Meta-Step 900] Refreshing inner model population...\n"
          ]
        },
        {
          "output_type": "stream",
          "name": "stderr",
          "text": [
            "Meta-Training:  91%|█████████ | 910/1000 [04:04<00:26,  3.42it/s]"
          ]
        },
        {
          "output_type": "stream",
          "name": "stdout",
          "text": [
            "  [Meta-Step 910/1000] Outer Loss: 1.2527\n",
            "\n",
            "[Meta-Step 910] Refreshing inner model population...\n"
          ]
        },
        {
          "output_type": "stream",
          "name": "stderr",
          "text": [
            "Meta-Training:  92%|█████████▏| 920/1000 [04:07<00:21,  3.80it/s]"
          ]
        },
        {
          "output_type": "stream",
          "name": "stdout",
          "text": [
            "  [Meta-Step 920/1000] Outer Loss: 1.2980\n",
            "\n",
            "[Meta-Step 920] Refreshing inner model population...\n"
          ]
        },
        {
          "output_type": "stream",
          "name": "stderr",
          "text": [
            "Meta-Training:  93%|█████████▎| 930/1000 [04:09<00:17,  3.98it/s]"
          ]
        },
        {
          "output_type": "stream",
          "name": "stdout",
          "text": [
            "  [Meta-Step 930/1000] Outer Loss: 1.1237\n",
            "\n",
            "[Meta-Step 930] Refreshing inner model population...\n"
          ]
        },
        {
          "output_type": "stream",
          "name": "stderr",
          "text": [
            "Meta-Training:  94%|█████████▍| 940/1000 [04:12<00:14,  4.14it/s]"
          ]
        },
        {
          "output_type": "stream",
          "name": "stdout",
          "text": [
            "  [Meta-Step 940/1000] Outer Loss: 1.2807\n",
            "\n",
            "[Meta-Step 940] Refreshing inner model population...\n"
          ]
        },
        {
          "output_type": "stream",
          "name": "stderr",
          "text": [
            "Meta-Training:  95%|█████████▌| 950/1000 [04:14<00:12,  3.95it/s]"
          ]
        },
        {
          "output_type": "stream",
          "name": "stdout",
          "text": [
            "  [Meta-Step 950/1000] Outer Loss: 1.2222\n",
            "\n",
            "[Meta-Step 950] Refreshing inner model population...\n"
          ]
        },
        {
          "output_type": "stream",
          "name": "stderr",
          "text": [
            "Meta-Training:  96%|█████████▌| 960/1000 [04:17<00:14,  2.83it/s]"
          ]
        },
        {
          "output_type": "stream",
          "name": "stdout",
          "text": [
            "  [Meta-Step 960/1000] Outer Loss: 1.3584\n",
            "\n",
            "[Meta-Step 960] Refreshing inner model population...\n"
          ]
        },
        {
          "output_type": "stream",
          "name": "stderr",
          "text": [
            "Meta-Training:  97%|█████████▋| 970/1000 [04:20<00:07,  3.89it/s]"
          ]
        },
        {
          "output_type": "stream",
          "name": "stdout",
          "text": [
            "  [Meta-Step 970/1000] Outer Loss: 1.2667\n",
            "\n",
            "[Meta-Step 970] Refreshing inner model population...\n"
          ]
        },
        {
          "output_type": "stream",
          "name": "stderr",
          "text": [
            "Meta-Training:  98%|█████████▊| 980/1000 [04:23<00:05,  3.94it/s]"
          ]
        },
        {
          "output_type": "stream",
          "name": "stdout",
          "text": [
            "  [Meta-Step 980/1000] Outer Loss: 1.4532\n",
            "\n",
            "[Meta-Step 980] Refreshing inner model population...\n"
          ]
        },
        {
          "output_type": "stream",
          "name": "stderr",
          "text": [
            "Meta-Training:  99%|█████████▉| 990/1000 [04:25<00:02,  3.95it/s]"
          ]
        },
        {
          "output_type": "stream",
          "name": "stdout",
          "text": [
            "  [Meta-Step 990/1000] Outer Loss: 1.3715\n",
            "\n",
            "[Meta-Step 990] Refreshing inner model population...\n"
          ]
        },
        {
          "output_type": "stream",
          "name": "stderr",
          "text": [
            "Meta-Training: 100%|██████████| 1000/1000 [04:28<00:00,  3.73it/s]"
          ]
        },
        {
          "output_type": "stream",
          "name": "stdout",
          "text": [
            "  [Meta-Step 1000/1000] Outer Loss: 1.2433\n",
            "\n",
            "✅ Training complete!\n"
          ]
        },
        {
          "output_type": "stream",
          "name": "stderr",
          "text": [
            "\n"
          ]
        }
      ]
    },
    {
      "cell_type": "code",
      "source": [
        "analyze_with_individual_corruption(trained_data_rater, test_loader, num_batches=10)"
      ],
      "metadata": {
        "colab": {
          "base_uri": "https://localhost:8080/",
          "height": 144
        },
        "id": "vB8x3czm5Njs",
        "outputId": "e70c74db-23f4-4c29-b63f-08f05e49f262"
      },
      "execution_count": 1,
      "outputs": [
        {
          "output_type": "error",
          "ename": "NameError",
          "evalue": "name 'analyze_with_individual_corruption' is not defined",
          "traceback": [
            "\u001b[0;31m---------------------------------------------------------------------------\u001b[0m",
            "\u001b[0;31mNameError\u001b[0m                                 Traceback (most recent call last)",
            "\u001b[0;32m/tmp/ipython-input-3965027147.py\u001b[0m in \u001b[0;36m<cell line: 0>\u001b[0;34m()\u001b[0m\n\u001b[0;32m----> 1\u001b[0;31m \u001b[0manalyze_with_individual_corruption\u001b[0m\u001b[0;34m(\u001b[0m\u001b[0mtrained_data_rater\u001b[0m\u001b[0;34m,\u001b[0m \u001b[0mtest_loader\u001b[0m\u001b[0;34m,\u001b[0m \u001b[0mnum_batches\u001b[0m\u001b[0;34m=\u001b[0m\u001b[0;36m10\u001b[0m\u001b[0;34m)\u001b[0m\u001b[0;34m\u001b[0m\u001b[0;34m\u001b[0m\u001b[0m\n\u001b[0m",
            "\u001b[0;31mNameError\u001b[0m: name 'analyze_with_individual_corruption' is not defined"
          ]
        }
      ]
    },
    {
      "cell_type": "code",
      "source": [
        "visualize_corruption(trained_data_rater, test_loader, 5)"
      ],
      "metadata": {
        "colab": {
          "base_uri": "https://localhost:8080/",
          "height": 1000
        },
        "id": "cjqLqZrJ3eAh",
        "outputId": "8f9aa138-fc30-42a9-915d-e2942dcb656e"
      },
      "execution_count": 24,
      "outputs": [
        {
          "output_type": "stream",
          "name": "stdout",
          "text": [
            "\n",
            "--- Visualizing Image Corruption with DataRater Scores ---\n"
          ]
        },
        {
          "output_type": "display_data",
          "data": {
            "text/plain": [
              "<Figure size 1200x1100 with 25 Axes>"
            ],
            "image/png": "[encoded data removed]"
          },
          "metadata": {}
        }
      ]
    },
    {
      "cell_type": "code",
      "source": [],
      "metadata": {
        "id": "X9yFopMD9uis"
      },
      "execution_count": null,
      "outputs": []
    }
  ]
}